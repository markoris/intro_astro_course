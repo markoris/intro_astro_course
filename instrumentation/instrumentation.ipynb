{
 "cells": [
  {
   "cell_type": "markdown",
   "id": "f37d32c1",
   "metadata": {},
   "source": [
    "## Instrumentation Effects ##\n",
    "\n",
    "In this module, you will study how changing the size of the detector changes the resolution of the image. You will also examine a handful of different image effects which will determine the outcome of the final image."
   ]
  },
  {
   "cell_type": "code",
   "execution_count": null,
   "id": "fa4f174c",
   "metadata": {},
   "outputs": [],
   "source": [
    "%matplotlib notebook\n",
    "\n",
    "# First we import our image processing module\n",
    "import image as img\n",
    "\n",
    "# Let's display the JWST Deep Field image, \n",
    "# assuming it was taken using a detector with \n",
    "# 1024x1024 pixels. That's over a million pixels!\n",
    "# Run the cell to produce the image (ctrl+Enter, or Run arrow above)\n",
    "\n",
    "image = img.Image(1024)\n",
    "\n",
    "# To see what our image looks like, we make a plot of it\n",
    "\n",
    "image.plot()\n",
    "\n",
    "# Changing the size of the detector (initially 1024)\n",
    "# to other values will produce images with\n",
    "# different resolutions. Try it out!"
   ]
  },
  {
   "cell_type": "code",
   "execution_count": null,
   "id": "a00ae69a",
   "metadata": {},
   "outputs": [],
   "source": [
    "# Initially, you will not see any image effects\n",
    "# in your image. The list of all image effects is:\n",
    "# [\"satellite_transits\", \"telescope_cover\", \"dead_pixels\", \"dead_arrays\", \"cosmic_rays\"]\n",
    "\n",
    "# For technical reasons, we need to redefine our image,\n",
    "# so feel free to change the resolution back to your preferred value\n",
    "\n",
    "image = img.Image(1024)\n",
    "\n",
    "# Adding an effect, such as having satellites pass by as\n",
    "# your image is taken, is done by using the following code\n",
    "\n",
    "image.add_effects([\"satellite_transits\"])\n",
    "\n",
    "# Additional effects can be added following the same\n",
    "# format used in line 3 of this cell\n",
    "# For example, to add satellite transits and dead_arrays, try\n",
    "# image.add_effects([\"satellite_transits\", \"dead_arrays\"])\n",
    "\n",
    "# Finally, we make another plot of our image, with the added effects\n",
    "image.plot()"
   ]
  }
 ],
 "metadata": {
  "kernelspec": {
   "display_name": "Python 3 (ipykernel)",
   "language": "python",
   "name": "python3"
  },
  "language_info": {
   "codemirror_mode": {
    "name": "ipython",
    "version": 3
   },
   "file_extension": ".py",
   "mimetype": "text/x-python",
   "name": "python",
   "nbconvert_exporter": "python",
   "pygments_lexer": "ipython3",
   "version": "3.9.10"
  }
 },
 "nbformat": 4,
 "nbformat_minor": 5
}
